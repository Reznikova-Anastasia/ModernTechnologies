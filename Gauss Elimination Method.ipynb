{
 "cells": [
  {
   "cell_type": "code",
   "execution_count": 1,
   "id": "78c00345",
   "metadata": {},
   "outputs": [],
   "source": [
    "import numpy as np"
   ]
  },
  {
   "cell_type": "code",
   "execution_count": 2,
   "id": "7b0737c9",
   "metadata": {},
   "outputs": [
    {
     "data": {
      "text/plain": [
       "array([0., 0., 0., 0.])"
      ]
     },
     "execution_count": 2,
     "metadata": {},
     "output_type": "execute_result"
    }
   ],
   "source": [
    "a = np.array([\n",
    "    [3, -2, 5, 0],\n",
    "    [4, 5, 8, 1],\n",
    "    [1, 1, 2, 1],\n",
    "    [2, 7, 6, 5]\n",
    "             ], float)\n",
    "b = np.array([2, 4, 5, 7], float)\n",
    "n = len(b) #количество уравнений системы (строки матрицы)\n",
    "x = np.zeros(n)\n",
    "x"
   ]
  },
  {
   "cell_type": "code",
   "execution_count": 3,
   "id": "36dd24f8",
   "metadata": {},
   "outputs": [],
   "source": [
    "#Elimination\n",
    "for k in range(n-1): #итератор по строкам (для диагнональных элементов которых (которых - это строки)\n",
    "    #будем занулять коэффициенты, расположенные ниже)\n",
    "    #range(n-1), т.к. последняя строка не нужна - под ней ничего нет\n",
    "    \n",
    "    for i in range(k+1, n): #берем все строки, расположенные ниже текущей\n",
    "        if a[i, k]==0: #если элемент под диагональным равен 0, то пропускаем\n",
    "            continue\n",
    "            \n",
    "        #находим число, на которое надо умножить коэффициент, чтобы получить 0 под текущем диагнольным элементом\n",
    "        factor = a[k, k] / a[i, k]\n",
    "        for j in range(k, n):#итератор по столбцам (матрица квадратная), начиная от текущего диагонального элемента\n",
    "        #a[i, j] - текущий элемент под и правее диагонального \n",
    "        #(левее вычислять смысла нет, так как там a[k, j]=0 с прошлых и позапрошлых итераций для всех j)\n",
    "        \n",
    "            a[i, j] = a[k, j] - a[i, j]*factor #зануление элементов\n",
    "        b[i] = b[k] - b[i]*factor #для b столбец всего один"
   ]
  },
  {
   "cell_type": "code",
   "execution_count": 4,
   "id": "5bcaff5a",
   "metadata": {},
   "outputs": [],
   "source": [
    "#Back-substitution\n",
    "x[n-1] = b[n-1] / a[n-1, n-1] #находим x_n (решение уравнения a_n * x_n = b_n)\n",
    "for i in range(n-2, -1, -1): #начинаем движение от последнего уравнения к следующим\n",
    "    #выполняя деление на диагональный коэффициент, т.к. все что правее него найдено на предыдущих шагах\n",
    "    #все что левее него равно 0, значит этих переменных в уравнении не будет\n",
    "    \n",
    "    sum_ax = 0\n",
    "    #по всем перемнным, по которым были найдены решения на предыдущих шагах находим текущий x_i\n",
    "    for j in range(i+1, n):\n",
    "        \n",
    "        #пример решение уравнения a1*x1 + a2*x2 + a3*x3 = b1 => x1 = [b1 - (a2*x2 + a3*x3)] / a1\n",
    "        sum_ax += a[i, j] * x[j]\n",
    "        x[i] = (b[i] - sum_ax) / a[i, i] "
   ]
  },
  {
   "cell_type": "code",
   "execution_count": null,
   "id": "21c037eb",
   "metadata": {},
   "outputs": [],
   "source": []
  }
 ],
 "metadata": {
  "kernelspec": {
   "display_name": "Python 3 (ipykernel)",
   "language": "python",
   "name": "python3"
  },
  "language_info": {
   "codemirror_mode": {
    "name": "ipython",
    "version": 3
   },
   "file_extension": ".py",
   "mimetype": "text/x-python",
   "name": "python",
   "nbconvert_exporter": "python",
   "pygments_lexer": "ipython3",
   "version": "3.11.3"
  },
  "toc": {
   "base_numbering": 1,
   "nav_menu": {},
   "number_sections": true,
   "sideBar": true,
   "skip_h1_title": false,
   "title_cell": "Table of Contents",
   "title_sidebar": "Contents",
   "toc_cell": false,
   "toc_position": {},
   "toc_section_display": true,
   "toc_window_display": false
  }
 },
 "nbformat": 4,
 "nbformat_minor": 5
}
