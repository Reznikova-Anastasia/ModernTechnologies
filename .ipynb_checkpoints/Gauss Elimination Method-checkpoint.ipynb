{
 "cells": [
  {
   "cell_type": "code",
   "execution_count": 1,
   "id": "78c00345",
   "metadata": {},
   "outputs": [],
   "source": [
    "import numpy as np\n",
    "from GaussEliminationMethod import *"
   ]
  },
  {
   "cell_type": "code",
   "execution_count": 2,
   "id": "7b0737c9",
   "metadata": {},
   "outputs": [
    {
     "data": {
      "text/plain": [
       "array([0., 0., 0., 0.])"
      ]
     },
     "execution_count": 2,
     "metadata": {},
     "output_type": "execute_result"
    }
   ],
   "source": [
    "a = np.array([\n",
    "    [3, -2, 5, 0],\n",
    "    [4, 5, 8, 1],\n",
    "    [1, 1, 2, 1],\n",
    "    [2, 7, 6, 5]\n",
    "             ], float)\n",
    "b = np.array([2, 4, 5, 7], float)\n",
    "n = len(b) #количество уравнений системы (строки матрицы)\n",
    "x = np.zeros(n)\n",
    "x"
   ]
  },
  {
   "cell_type": "code",
   "execution_count": 3,
   "id": "625294f4",
   "metadata": {},
   "outputs": [],
   "source": [
    "a, b = Elimination(n, a, b)\n",
    "x = Back_substitution(x, b, a, n)"
   ]
  }
 ],
 "metadata": {
  "kernelspec": {
   "display_name": "Python 3 (ipykernel)",
   "language": "python",
   "name": "python3"
  },
  "language_info": {
   "codemirror_mode": {
    "name": "ipython",
    "version": 3
   },
   "file_extension": ".py",
   "mimetype": "text/x-python",
   "name": "python",
   "nbconvert_exporter": "python",
   "pygments_lexer": "ipython3",
   "version": "3.11.3"
  },
  "toc": {
   "base_numbering": 1,
   "nav_menu": {},
   "number_sections": true,
   "sideBar": true,
   "skip_h1_title": false,
   "title_cell": "Table of Contents",
   "title_sidebar": "Contents",
   "toc_cell": false,
   "toc_position": {},
   "toc_section_display": true,
   "toc_window_display": false
  }
 },
 "nbformat": 4,
 "nbformat_minor": 5
}
